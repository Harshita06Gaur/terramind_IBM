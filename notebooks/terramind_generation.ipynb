{
 "cells": [
  {
   "cell_type": "code",
   "id": "initial_id",
   "metadata": {
    "collapsed": true
   },
   "source": [
    "import torch\n",
    "import numpy as np\n",
    "import rioxarray as rxr\n",
    "import matplotlib.pyplot as plt\n",
    "from matplotlib.colors import hex2color, LinearSegmentedColormap\n",
    "from terratorch import FULL_MODEL_REGISTRY\n",
    "\n",
    "# Select device\n",
    "if torch.cuda.is_available():\n",
    "    device = 'cuda'    \n",
    "elif torch.backends.mps.is_available():\n",
    "    device = 'mps'\n",
    "else:\n",
    "    device = 'cpu'"
   ],
   "outputs": [],
   "execution_count": null
  },
  {
   "metadata": {},
   "cell_type": "code",
   "source": [
    "# Build model that generates S-2 L2A (via tokenizer), S-1 GRD and LULC maps based on raw S-2 L2A input:\n",
    "model = FULL_MODEL_REGISTRY.build(\n",
    "    'terramind_v1_base_generate',\n",
    "    modalities=['S2L2A'],  # Define the input\n",
    "    output_modalities=['S2L2A', 'S1GRD', 'LULC'],  # Define the output\n",
    "    pretrained=True,\n",
    "    standardize=True,  # If standardize=True, you don't need to do the standardization yourself.\n",
    "    # offset={'S2L2A': 1000}  # Optional offset in your data. The offset is also applied to the generation. \n",
    ")\n",
    "\n",
    "_ = model.to(device)\n",
    "\n",
    "# If you need the standardization values, see\n",
    "from terratorch.models.backbones.terramind.model.terramind_register import v1_pretraining_mean, v1_pretraining_std"
   ],
   "id": "72ebcbdd51a967ff",
   "outputs": [],
   "execution_count": null
  },
  {
   "metadata": {},
   "cell_type": "code",
   "source": [
    "# Load an S-2 L2A example \n",
    "examples = [\n",
    "    '../examples/S2L2A/38D_378R_2_3.tif',\n",
    "    '../examples/S2L2A/282D_485L_3_3.tif',\n",
    "    '../examples/S2L2A/433D_629L_3_1.tif',\n",
    "    '../examples/S2L2A/637U_59R_1_3.tif',\n",
    "    '../examples/S2L2A/609U_541L_3_0.tif',\n",
    "]\n",
    "\n",
    "# Select example between 0 and 4\n",
    "data = rxr.open_rasterio(examples[1])\n",
    "# Conver to shape [B, C, 224, 224]\n",
    "data = torch.Tensor(data.values, device='cpu').unsqueeze(0)"
   ],
   "id": "f399d4fb83a5adfa",
   "outputs": [],
   "execution_count": null
  },
  {
   "metadata": {},
   "cell_type": "code",
   "source": [
    "# Visualize S-2 L2A input as RGB\n",
    "rgb = data[0, [3,2,1]].clone().permute(1,2,0)\n",
    "rgb = (rgb / 2000).clip(0, 1) * 255\n",
    "rgb = rgb.cpu().numpy().round().astype(np.uint8)\n",
    "plt.imshow(rgb)\n",
    "plt.axis('off')\n",
    "plt.show()"
   ],
   "id": "93f674b55d92ab9",
   "outputs": [],
   "execution_count": null
  },
  {
   "metadata": {},
   "cell_type": "code",
   "source": [
    "# Run model with diffusion steps\n",
    "input = data.to(device)\n",
    "with torch.no_grad():\n",
    "  generated = model(input, verbose=True, timesteps=10)"
   ],
   "id": "7d9754c331e226cf",
   "outputs": [],
   "execution_count": null
  },
  {
   "metadata": {},
   "cell_type": "code",
   "source": [
    "# Select outputs\n",
    "s2l2a = generated['S2L2A']\n",
    "s1grd = generated['S1GRD']\n",
    "lulc = generated['LULC']"
   ],
   "id": "f0747d92a82bcb7",
   "outputs": [],
   "execution_count": null
  },
  {
   "metadata": {},
   "cell_type": "code",
   "source": [
    "fig, ax = plt.subplots(1, 4, figsize=(20, 5))\n",
    "\n",
    "# Visualize S-2 L2A input as RGB\n",
    "rgb = data[0, [3,2,1]].clone().permute(1,2,0)\n",
    "rgb = (rgb / 2000).clip(0, 1) * 255\n",
    "rgb = rgb.cpu().numpy().round().astype(np.uint8)\n",
    "ax[0].imshow(rgb)\n",
    "ax[0].axis('off')\n",
    "ax[0].set_title('S-2 L2A Input')\n",
    "\n",
    "# Visualize S-2 L2A reconstruction as RGB\n",
    "rgb = s2l2a[0, [3,2,1]].clone().permute(1,2,0)\n",
    "rgb = (rgb / 2000).clip(0, 1) * 255\n",
    "rgb = rgb.cpu().numpy().round().astype(np.uint8)\n",
    "ax[1].imshow(rgb)\n",
    "ax[1].axis('off')\n",
    "ax[1].set_title('S-2 L2A Generation')\n",
    "\n",
    "# Visualize S-1 RTC as RGB\n",
    "vv = s1grd[0, 0:1].clone().cpu().numpy()\n",
    "vh = s1grd[0, 1:2].clone().cpu().numpy()\n",
    "vv = vv.clip(-30, 5)\n",
    "vv = ((vv + 30) / 35 * 255).astype(np.uint8)\n",
    "vh = vh.clip(-40, 0)\n",
    "vh = ((vh + 40) / 40 * 255).astype(np.uint8)\n",
    "rgb = np.concatenate([vh, vv, vh], axis=0).transpose(1,2,0)\n",
    "\n",
    "ax[2].imshow(rgb)\n",
    "ax[2].axis('off')\n",
    "ax[2].set_title('S-1 RTC Generation')\n",
    "\n",
    "# Visualize LULC\n",
    "# 'No Data', 'Water', 'Trees', 'Flooded vegetation', 'Crops', 'Built area', 'Bare ground', 'Snow/ice', 'Clouds', 'Rangeland'\n",
    "COLORBLIND_HEX = [\"#000000\", \"#3171AD\", \"#469C76\", '#83CA70', \"#EAE159\", \"#C07CB8\", \"#C19368\", \"#6FB2E4\", \"#F1F1F1\", \"#C66526\"]   \n",
    "COLORBLIND_RGB = [hex2color(hex) for hex in COLORBLIND_HEX]\n",
    "esri_cmap = LinearSegmentedColormap.from_list('esri', COLORBLIND_RGB, N=10)\n",
    "\n",
    "lulc_map = lulc.clone().argmax(dim=1)  # LULC is always returned as logits.\n",
    "lulc_map = lulc_map.cpu().numpy()[0]\n",
    "ax[3].imshow(lulc_map, cmap=esri_cmap, vmin=0, vmax=9, interpolation='nearest')\n",
    "ax[3].axis('off')\n",
    "ax[3].set_title('S-1 RTC Generation')\n",
    "\n",
    "plt.show()"
   ],
   "id": "f99bfbcbaf5f6cb1",
   "outputs": [],
   "execution_count": null
  }
 ],
 "metadata": {
  "kernelspec": {
   "display_name": "Python 3",
   "language": "python",
   "name": "python3"
  },
  "language_info": {
   "codemirror_mode": {
    "name": "ipython",
    "version": 2
   },
   "file_extension": ".py",
   "mimetype": "text/x-python",
   "name": "python",
   "nbconvert_exporter": "python",
   "pygments_lexer": "ipython2",
   "version": "2.7.6"
  }
 },
 "nbformat": 4,
 "nbformat_minor": 5
}
